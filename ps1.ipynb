{
  "nbformat": 4,
  "nbformat_minor": 0,
  "metadata": {
    "colab": {
      "provenance": [],
      "include_colab_link": true
    },
    "kernelspec": {
      "name": "python3",
      "display_name": "Python 3"
    },
    "language_info": {
      "name": "python"
    }
  },
  "cells": [
    {
      "cell_type": "markdown",
      "metadata": {
        "id": "view-in-github",
        "colab_type": "text"
      },
      "source": [
        "<a href=\"https://colab.research.google.com/github/HarshGujarathi7/GISTEST/blob/main/ps1.ipynb\" target=\"_parent\"><img src=\"https://colab.research.google.com/assets/colab-badge.svg\" alt=\"Open In Colab\"/></a>"
      ]
    },
    {
      "cell_type": "markdown",
      "source": [
        "### **Resaerch Intesrest**"
      ],
      "metadata": {
        "id": "slFMP8fIF3aw"
      }
    },
    {
      "cell_type": "markdown",
      "source": [
        "In this Project ,\n",
        "I am working on mapping the co-relation betwween crimes that are commited in India at a district level and the Wealtj/Income of each district and showing how each other go hand in hand"
      ],
      "metadata": {
        "id": "a60IRCihJSxK"
      }
    },
    {
      "cell_type": "markdown",
      "source": [
        "aok: cool great topic; do make sure though data are decently representative of the districs; think about quality of the data and margins of error; and ideally see if can traingulate--use multiple measures to measure the same concept:\n",
        "\n",
        "https://researchmethod.net/triangulation/\n",
        "\n",
        "https://conjointly.com/kb/measurement-error/"
      ],
      "metadata": {
        "id": "hr01-GEaXQDj"
      }
    },
    {
      "cell_type": "markdown",
      "source": [
        "## **Data Set**"
      ],
      "metadata": {
        "id": "ByujTI_uPm1U"
      }
    },
    {
      "cell_type": "markdown",
      "source": [
        "\n",
        "Data i used have been taken online from various sites .\n",
        "\n",
        "\n",
        "*   This data set is for the income and wealth of each district-https://secc.in/getSeccDataSummaryNationalReport.htmgov.\n",
        "\n",
        "* This dataset contains the crime statistics of the districts of India - https://data.gov.in/resource/district-wise-crime-under-various-sections-indian-penal-code-ipc-crimes-during-2001-2012\n",
        "\n",
        "\n",
        "\n",
        "\n",
        "\n"
      ],
      "metadata": {
        "id": "awazrUqxQeUp"
      }
    },
    {
      "cell_type": "markdown",
      "source": [
        "## **Importing Libraries**"
      ],
      "metadata": {
        "id": "0-02hjvQHXTB"
      }
    },
    {
      "cell_type": "code",
      "execution_count": 1,
      "metadata": {
        "id": "cwXAHmv5zg7F"
      },
      "outputs": [],
      "source": [
        "import os, zipfile\n",
        "import pandas as pd\n",
        "import matplotlib.pyplot as plt\n",
        "\n",
        "#will display all output not just last command\n",
        "from IPython.core.interactiveshell import InteractiveShell\n",
        "InteractiveShell.ast_node_interactivity = \"all\"\n",
        "\n",
        "from google.colab import data_table\n",
        "data_table.enable_dataframe_formatter() #this enables spreadsheet view upon calling dataframe (without() )"
      ]
    },
    {
      "cell_type": "markdown",
      "source": [
        "**Install Geopandas**"
      ],
      "metadata": {
        "id": "EQzn8qepP9LT"
      }
    },
    {
      "cell_type": "code",
      "source": [
        "#! pip install geopandas\n",
        "#!pip install mapclassify\n",
        "import geopandas as gpd\n",
        "#import mapclassify"
      ],
      "metadata": {
        "id": "ICv8XIqJQdHk"
      },
      "execution_count": 2,
      "outputs": []
    },
    {
      "cell_type": "markdown",
      "source": [
        "## mapping your area of interest"
      ],
      "metadata": {
        "id": "EN-eaBGMoQUQ"
      }
    },
    {
      "cell_type": "markdown",
      "source": [
        "In this we are mapping the shapefile of India .\n",
        "\n",
        "*   We have provided the link of the zip file which is present in my repository and we are Plotting it\n",
        "*   In the code we first find the zip file , then unzip the zip file and find the shape file of india ,then we plot the india shapefile\n",
        "\n",
        "\n",
        "\n",
        "\n",
        "\n"
      ],
      "metadata": {
        "id": "vOIr8UKUoYSh"
      }
    },
    {
      "cell_type": "code",
      "source": [
        "#i found one and reposted on my website, download it onto colab:\n",
        "! wget -q -O india_states.zip https://github.com/HarshGujarathi7/GISTEST/raw/main/district.zip\n",
        "\n",
        "zip_ref = zipfile.ZipFile('india_states.zip', 'r'); zip_ref.extractall(); zip_ref.close() #just unzipping\n",
        "india=gpd.read_file('output.shp') #load the shapefile with gpd as india"
      ],
      "metadata": {
        "id": "MpN3BMkYoxXv"
      },
      "execution_count": 3,
      "outputs": []
    },
    {
      "cell_type": "code",
      "source": [
        "#make the map\n",
        "india.plot()"
      ],
      "metadata": {
        "id": "Q3vmsvaCpRQ0",
        "outputId": "22d5c704-5952-4cd4-f76a-5d0e0c1e043d",
        "colab": {
          "base_uri": "https://localhost:8080/",
          "height": 448
        }
      },
      "execution_count": 4,
      "outputs": [
        {
          "output_type": "execute_result",
          "data": {
            "text/plain": [
              "<Axes: >"
            ]
          },
          "metadata": {},
          "execution_count": 4
        },
        {
          "output_type": "display_data",
          "data": {
            "text/plain": [
              "<Figure size 640x480 with 1 Axes>"
            ],
            "image/png": "[encoded data removed]"
          },
          "metadata": {}
        }
      ]
    },
    {
      "cell_type": "markdown",
      "source": [
        "The above map plots the district and India map borders"
      ],
      "metadata": {
        "id": "PzhNxwFHQyP6"
      }
    },
    {
      "cell_type": "markdown",
      "source": [
        "# **Data Types and columns in the shapefile**"
      ],
      "metadata": {
        "id": "JU6Ty1KlQo_L"
      }
    },
    {
      "cell_type": "code",
      "source": [
        "india.dtypes #with geopandas can do stuff like with pandas :)\n"
      ],
      "metadata": {
        "id": "ycklAOxtQKDD",
        "outputId": "53113920-2aa4-49ba-a822-f05a73b9f51e",
        "colab": {
          "base_uri": "https://localhost:8080/"
        }
      },
      "execution_count": 5,
      "outputs": [
        {
          "output_type": "execute_result",
          "data": {
            "text/plain": [
              "objectid         int64\n",
              "statecode       object\n",
              "statename       object\n",
              "state_ut        object\n",
              "distcode        object\n",
              "distname        object\n",
              "distarea       float64\n",
              "totalpopul     float64\n",
              "totalhh        float64\n",
              "totpopmale     float64\n",
              "totpopfema     float64\n",
              "st_areasha     float64\n",
              "st_lengths     float64\n",
              "geometry      geometry\n",
              "dtype: object"
            ]
          },
          "metadata": {},
          "execution_count": 5
        }
      ]
    },
    {
      "cell_type": "code",
      "source": [
        "india.columns"
      ],
      "metadata": {
        "id": "0Y9MDEKmQbGx",
        "outputId": "bbc2baee-07aa-443e-b24b-376a483756c9",
        "colab": {
          "base_uri": "https://localhost:8080/"
        }
      },
      "execution_count": 6,
      "outputs": [
        {
          "output_type": "execute_result",
          "data": {
            "text/plain": [
              "Index(['objectid', 'statecode', 'statename', 'state_ut', 'distcode',\n",
              "       'distname', 'distarea', 'totalpopul', 'totalhh', 'totpopmale',\n",
              "       'totpopfema', 'st_areasha', 'st_lengths', 'geometry'],\n",
              "      dtype='object')"
            ]
          },
          "metadata": {},
          "execution_count": 6
        }
      ]
    },
    {
      "cell_type": "code",
      "source": [
        "india.describe"
      ],
      "metadata": {
        "id": "kizYJdOSa4Gy",
        "outputId": "0f27d9b7-ff71-4375-a03a-96a3575c8062",
        "colab": {
          "base_uri": "https://localhost:8080/"
        }
      },
      "execution_count": 7,
      "outputs": [
        {
          "output_type": "execute_result",
          "data": {
            "text/plain": [
              "<bound method NDFrame.describe of      objectid statecode    statename state_ut distcode      distname  \\\n",
              "0           1        05  Uttarakhand    STATE      066      Nainital   \n",
              "1           2        05  Uttarakhand    STATE      060      Dehradun   \n",
              "2           3        05  Uttarakhand    STATE      064        Almora   \n",
              "3           4        05  Uttarakhand    STATE      065     Champawat   \n",
              "4           5        05  Uttarakhand    STATE      056    Uttarkashi   \n",
              "..        ...       ...          ...      ...      ...           ...   \n",
              "688       691        36    Telangana    STATE      T28    Wanaparthy   \n",
              "689       692        36    Telangana    STATE      T27     Vikarabad   \n",
              "690       693        36    Telangana    STATE      T13  Mahabubnagar   \n",
              "691        41        01       Ladakh    STATE      004        Kargil   \n",
              "692        34        01       Ladakh    STATE      003  Leh (Ladakh)   \n",
              "\n",
              "     distarea  totalpopul   totalhh  totpopmale  totpopfema    st_areasha  \\\n",
              "0      4251.0    954605.0  191383.0    493666.0    460939.0  5.322546e+09   \n",
              "1      3088.0   1696694.0  347001.0    892199.0    804495.0  4.177236e+09   \n",
              "2      3144.0    622506.0  140577.0    291081.0    331425.0  4.140751e+09   \n",
              "3      1766.0    259648.0   53953.0    131125.0    128523.0  2.294297e+09   \n",
              "4      8016.0    330086.0   67602.0    168597.0    161489.0  1.085166e+10   \n",
              "..        ...         ...       ...         ...         ...           ...   \n",
              "688       NaN    577758.0  123544.0    294833.0    282925.0  2.471575e+09   \n",
              "689       NaN    927140.0  194956.0    463350.0    463790.0  3.978808e+09   \n",
              "690       NaN   1486777.0  300508.0    745101.0    741676.0  5.627610e+09   \n",
              "691   14036.0    140802.0   18338.0     77785.0     63017.0  2.152617e+10   \n",
              "692   45110.0    133487.0   21909.0     78971.0     54516.0  1.181149e+11   \n",
              "\n",
              "       st_lengths                                           geometry  \n",
              "0    5.061827e+05  POLYGON ((79.52659 29.05543, 79.52550 29.05545...  \n",
              "1    5.781887e+05  POLYGON ((77.87557 30.26052, 77.87467 30.26087...  \n",
              "2    4.634542e+05  POLYGON ((79.28494 29.92735, 79.28495 29.92723...  \n",
              "3    3.145080e+05  POLYGON ((80.12479 29.01308, 80.12481 29.01306...  \n",
              "4    7.864256e+05  POLYGON ((78.92267 31.25333, 78.93106 31.26840...  \n",
              "..            ...                                                ...  \n",
              "688  2.894403e+05  POLYGON ((78.23115 16.43789, 78.23471 16.38793...  \n",
              "689  3.723430e+05  POLYGON ((77.41953 17.12279, 77.41852 17.12334...  \n",
              "690  4.420680e+05  POLYGON ((77.49606 16.38155, 77.49382 16.38188...  \n",
              "691  1.151337e+06  POLYGON ((76.13869 34.63398, 76.13957 34.63408...  \n",
              "692  2.283246e+06  POLYGON ((80.06767 34.78624, 80.06849 34.77767...  \n",
              "\n",
              "[693 rows x 14 columns]>"
            ]
          },
          "metadata": {},
          "execution_count": 7
        }
      ]
    },
    {
      "cell_type": "code",
      "source": [
        "india_1 = india[[\"distname\", \"statename\",\"distarea\",\"totalpopul\",]]"
      ],
      "metadata": {
        "id": "pnUm0ZVqK5o5"
      },
      "execution_count": 11,
      "outputs": []
    },
    {
      "cell_type": "code",
      "source": [
        "india_1.head(2)"
      ],
      "metadata": {
        "id": "GFf6xNSEz91_",
        "outputId": "01b08e90-6d65-4fbb-c3d2-a9bbef5df67d",
        "colab": {
          "base_uri": "https://localhost:8080/",
          "height": 164
        }
      },
      "execution_count": 12,
      "outputs": [
        {
          "output_type": "execute_result",
          "data": {
            "text/plain": [
              "   distname    statename  distarea  totalpopul\n",
              "0  Nainital  Uttarakhand    4251.0    954605.0\n",
              "1  Dehradun  Uttarakhand    3088.0   1696694.0"
            ],
            "text/html": [
              "\n",
              "  <div id=\"df-456b277a-6782-440c-9f27-4f554b20fa3f\" class=\"colab-df-container\">\n",
              "    <div>\n",
              "<style scoped>\n",
              "    .dataframe tbody tr th:only-of-type {\n",
              "        vertical-align: middle;\n",
              "    }\n",
              "\n",
              "    .dataframe tbody tr th {\n",
              "        vertical-align: top;\n",
              "    }\n",
              "\n",
              "    .dataframe thead th {\n",
              "        text-align: right;\n",
              "    }\n",
              "</style>\n",
              "<table border=\"1\" class=\"dataframe\">\n",
              "  <thead>\n",
              "    <tr style=\"text-align: right;\">\n",
              "      <th></th>\n",
              "      <th>distname</th>\n",
              "      <th>statename</th>\n",
              "      <th>distarea</th>\n",
              "      <th>totalpopul</th>\n",
              "    </tr>\n",
              "  </thead>\n",
              "  <tbody>\n",
              "    <tr>\n",
              "      <th>0</th>\n",
              "      <td>Nainital</td>\n",
              "      <td>Uttarakhand</td>\n",
              "      <td>4251.0</td>\n",
              "      <td>954605.0</td>\n",
              "    </tr>\n",
              "    <tr>\n",
              "      <th>1</th>\n",
              "      <td>Dehradun</td>\n",
              "      <td>Uttarakhand</td>\n",
              "      <td>3088.0</td>\n",
              "      <td>1696694.0</td>\n",
              "    </tr>\n",
              "  </tbody>\n",
              "</table>\n",
              "</div>\n",
              "    <div class=\"colab-df-buttons\">\n",
              "\n",
              "  <div class=\"colab-df-container\">\n",
              "    <button class=\"colab-df-convert\" onclick=\"convertToInteractive('df-456b277a-6782-440c-9f27-4f554b20fa3f')\"\n",
              "            title=\"Convert this dataframe to an interactive table.\"\n",
              "            style=\"display:none;\">\n",
              "\n",
              "  <svg xmlns=\"http://www.w3.org/2000/svg\" height=\"24px\" viewBox=\"0 -960 960 960\">\n",
              "    <path d=\"M120-120v-720h720v720H120Zm60-500h600v-160H180v160Zm220 220h160v-160H400v160Zm0 220h160v-160H400v160ZM180-400h160v-160H180v160Zm440 0h160v-160H620v160ZM180-180h160v-160H180v160Zm440 0h160v-160H620v160Z\"/>\n",
              "  </svg>\n",
              "    </button>\n",
              "\n",
              "  <style>\n",
              "    .colab-df-container {\n",
              "      display:flex;\n",
              "      gap: 12px;\n",
              "    }\n",
              "\n",
              "    .colab-df-convert {\n",
              "      background-color: #E8F0FE;\n",
              "      border: none;\n",
              "      border-radius: 50%;\n",
              "      cursor: pointer;\n",
              "      display: none;\n",
              "      fill: #1967D2;\n",
              "      height: 32px;\n",
              "      padding: 0 0 0 0;\n",
              "      width: 32px;\n",
              "    }\n",
              "\n",
              "    .colab-df-convert:hover {\n",
              "      background-color: #E2EBFA;\n",
              "      box-shadow: 0px 1px 2px rgba(60, 64, 67, 0.3), 0px 1px 3px 1px rgba(60, 64, 67, 0.15);\n",
              "      fill: #174EA6;\n",
              "    }\n",
              "\n",
              "    .colab-df-buttons div {\n",
              "      margin-bottom: 4px;\n",
              "    }\n",
              "\n",
              "    [theme=dark] .colab-df-convert {\n",
              "      background-color: #3B4455;\n",
              "      fill: #D2E3FC;\n",
              "    }\n",
              "\n",
              "    [theme=dark] .colab-df-convert:hover {\n",
              "      background-color: #434B5C;\n",
              "      box-shadow: 0px 1px 3px 1px rgba(0, 0, 0, 0.15);\n",
              "      filter: drop-shadow(0px 1px 2px rgba(0, 0, 0, 0.3));\n",
              "      fill: #FFFFFF;\n",
              "    }\n",
              "  </style>\n",
              "\n",
              "    <script>\n",
              "      const buttonEl =\n",
              "        document.querySelector('#df-456b277a-6782-440c-9f27-4f554b20fa3f button.colab-df-convert');\n",
              "      buttonEl.style.display =\n",
              "        google.colab.kernel.accessAllowed ? 'block' : 'none';\n",
              "\n",
              "      async function convertToInteractive(key) {\n",
              "        const element = document.querySelector('#df-456b277a-6782-440c-9f27-4f554b20fa3f');\n",
              "        const dataTable =\n",
              "          await google.colab.kernel.invokeFunction('convertToInteractive',\n",
              "                                                    [key], {});\n",
              "        if (!dataTable) return;\n",
              "\n",
              "        const docLinkHtml = 'Like what you see? Visit the ' +\n",
              "          '<a target=\"_blank\" href=https://colab.research.google.com/notebooks/data_table.ipynb>data table notebook</a>'\n",
              "          + ' to learn more about interactive tables.';\n",
              "        element.innerHTML = '';\n",
              "        dataTable['output_type'] = 'display_data';\n",
              "        await google.colab.output.renderOutput(dataTable, element);\n",
              "        const docLink = document.createElement('div');\n",
              "        docLink.innerHTML = docLinkHtml;\n",
              "        element.appendChild(docLink);\n",
              "      }\n",
              "    </script>\n",
              "  </div>\n",
              "\n",
              "\n",
              "<div id=\"df-ff06e52b-3a82-40c9-ad8b-61a19c48a3c2\">\n",
              "  <button class=\"colab-df-quickchart\" onclick=\"quickchart('df-ff06e52b-3a82-40c9-ad8b-61a19c48a3c2')\"\n",
              "            title=\"Suggest charts.\"\n",
              "            style=\"display:none;\">\n",
              "\n",
              "<svg xmlns=\"http://www.w3.org/2000/svg\" height=\"24px\"viewBox=\"0 0 24 24\"\n",
              "     width=\"24px\">\n",
              "    <g>\n",
              "        <path d=\"M19 3H5c-1.1 0-2 .9-2 2v14c0 1.1.9 2 2 2h14c1.1 0 2-.9 2-2V5c0-1.1-.9-2-2-2zM9 17H7v-7h2v7zm4 0h-2V7h2v10zm4 0h-2v-4h2v4z\"/>\n",
              "    </g>\n",
              "</svg>\n",
              "  </button>\n",
              "\n",
              "<style>\n",
              "  .colab-df-quickchart {\n",
              "      --bg-color: #E8F0FE;\n",
              "      --fill-color: #1967D2;\n",
              "      --hover-bg-color: #E2EBFA;\n",
              "      --hover-fill-color: #174EA6;\n",
              "      --disabled-fill-color: #AAA;\n",
              "      --disabled-bg-color: #DDD;\n",
              "  }\n",
              "\n",
              "  [theme=dark] .colab-df-quickchart {\n",
              "      --bg-color: #3B4455;\n",
              "      --fill-color: #D2E3FC;\n",
              "      --hover-bg-color: #434B5C;\n",
              "      --hover-fill-color: #FFFFFF;\n",
              "      --disabled-bg-color: #3B4455;\n",
              "      --disabled-fill-color: #666;\n",
              "  }\n",
              "\n",
              "  .colab-df-quickchart {\n",
              "    background-color: var(--bg-color);\n",
              "    border: none;\n",
              "    border-radius: 50%;\n",
              "    cursor: pointer;\n",
              "    display: none;\n",
              "    fill: var(--fill-color);\n",
              "    height: 32px;\n",
              "    padding: 0;\n",
              "    width: 32px;\n",
              "  }\n",
              "\n",
              "  .colab-df-quickchart:hover {\n",
              "    background-color: var(--hover-bg-color);\n",
              "    box-shadow: 0 1px 2px rgba(60, 64, 67, 0.3), 0 1px 3px 1px rgba(60, 64, 67, 0.15);\n",
              "    fill: var(--button-hover-fill-color);\n",
              "  }\n",
              "\n",
              "  .colab-df-quickchart-complete:disabled,\n",
              "  .colab-df-quickchart-complete:disabled:hover {\n",
              "    background-color: var(--disabled-bg-color);\n",
              "    fill: var(--disabled-fill-color);\n",
              "    box-shadow: none;\n",
              "  }\n",
              "\n",
              "  .colab-df-spinner {\n",
              "    border: 2px solid var(--fill-color);\n",
              "    border-color: transparent;\n",
              "    border-bottom-color: var(--fill-color);\n",
              "    animation:\n",
              "      spin 1s steps(1) infinite;\n",
              "  }\n",
              "\n",
              "  @keyframes spin {\n",
              "    0% {\n",
              "      border-color: transparent;\n",
              "      border-bottom-color: var(--fill-color);\n",
              "      border-left-color: var(--fill-color);\n",
              "    }\n",
              "    20% {\n",
              "      border-color: transparent;\n",
              "      border-left-color: var(--fill-color);\n",
              "      border-top-color: var(--fill-color);\n",
              "    }\n",
              "    30% {\n",
              "      border-color: transparent;\n",
              "      border-left-color: var(--fill-color);\n",
              "      border-top-color: var(--fill-color);\n",
              "      border-right-color: var(--fill-color);\n",
              "    }\n",
              "    40% {\n",
              "      border-color: transparent;\n",
              "      border-right-color: var(--fill-color);\n",
              "      border-top-color: var(--fill-color);\n",
              "    }\n",
              "    60% {\n",
              "      border-color: transparent;\n",
              "      border-right-color: var(--fill-color);\n",
              "    }\n",
              "    80% {\n",
              "      border-color: transparent;\n",
              "      border-right-color: var(--fill-color);\n",
              "      border-bottom-color: var(--fill-color);\n",
              "    }\n",
              "    90% {\n",
              "      border-color: transparent;\n",
              "      border-bottom-color: var(--fill-color);\n",
              "    }\n",
              "  }\n",
              "</style>\n",
              "\n",
              "  <script>\n",
              "    async function quickchart(key) {\n",
              "      const quickchartButtonEl =\n",
              "        document.querySelector('#' + key + ' button');\n",
              "      quickchartButtonEl.disabled = true;  // To prevent multiple clicks.\n",
              "      quickchartButtonEl.classList.add('colab-df-spinner');\n",
              "      try {\n",
              "        const charts = await google.colab.kernel.invokeFunction(\n",
              "            'suggestCharts', [key], {});\n",
              "      } catch (error) {\n",
              "        console.error('Error during call to suggestCharts:', error);\n",
              "      }\n",
              "      quickchartButtonEl.classList.remove('colab-df-spinner');\n",
              "      quickchartButtonEl.classList.add('colab-df-quickchart-complete');\n",
              "    }\n",
              "    (() => {\n",
              "      let quickchartButtonEl =\n",
              "        document.querySelector('#df-ff06e52b-3a82-40c9-ad8b-61a19c48a3c2 button');\n",
              "      quickchartButtonEl.style.display =\n",
              "        google.colab.kernel.accessAllowed ? 'block' : 'none';\n",
              "    })();\n",
              "  </script>\n",
              "</div>\n",
              "    </div>\n",
              "  </div>\n"
            ],
            "application/vnd.google.colaboratory.module+javascript": "\n      import \"https://ssl.gstatic.com/colaboratory/data_table/881c4a0d49046431/data_table.js\";\n\n      const table = window.createDataTable({\n        data: [[{\n            'v': 0,\n            'f': \"0\",\n        },\n\"Nainital\",\n\"Uttarakhand\",\n{\n            'v': 4251.0,\n            'f': \"4251.0\",\n        },\n{\n            'v': 954605.0,\n            'f': \"954605.0\",\n        }],\n [{\n            'v': 1,\n            'f': \"1\",\n        },\n\"Dehradun\",\n\"Uttarakhand\",\n{\n            'v': 3088.0,\n            'f': \"3088.0\",\n        },\n{\n            'v': 1696694.0,\n            'f': \"1696694.0\",\n        }]],\n        columns: [[\"number\", \"index\"], [\"string\", \"distname\"], [\"string\", \"statename\"], [\"number\", \"distarea\"], [\"number\", \"totalpopul\"]],\n        columnOptions: [{\"width\": \"1px\", \"className\": \"index_column\"}],\n        rowsPerPage: 25,\n        helpUrl: \"https://colab.research.google.com/notebooks/data_table.ipynb\",\n        suppressOutputScrolling: true,\n        minimumWidth: undefined,\n      });\n\n      function appendQuickchartButton(parentElement) {\n        let quickchartButtonContainerElement = document.createElement('div');\n        quickchartButtonContainerElement.innerHTML = `\n<div id=\"df-82d14b05-299d-451f-b269-64d782275127\">\n  <button class=\"colab-df-quickchart\" onclick=\"quickchart('df-82d14b05-299d-451f-b269-64d782275127')\"\n            title=\"Suggest charts.\"\n            style=\"display:none;\">\n    \n<svg xmlns=\"http://www.w3.org/2000/svg\" height=\"24px\"viewBox=\"0 0 24 24\"\n     width=\"24px\">\n    <g>\n        <path d=\"M19 3H5c-1.1 0-2 .9-2 2v14c0 1.1.9 2 2 2h14c1.1 0 2-.9 2-2V5c0-1.1-.9-2-2-2zM9 17H7v-7h2v7zm4 0h-2V7h2v10zm4 0h-2v-4h2v4z\"/>\n    </g>\n</svg>\n  </button>\n  \n<style>\n  .colab-df-quickchart {\n      --bg-color: #E8F0FE;\n      --fill-color: #1967D2;\n      --hover-bg-color: #E2EBFA;\n      --hover-fill-color: #174EA6;\n      --disabled-fill-color: #AAA;\n      --disabled-bg-color: #DDD;\n  }\n\n  [theme=dark] .colab-df-quickchart {\n      --bg-color: #3B4455;\n      --fill-color: #D2E3FC;\n      --hover-bg-color: #434B5C;\n      --hover-fill-color: #FFFFFF;\n      --disabled-bg-color: #3B4455;\n      --disabled-fill-color: #666;\n  }\n\n  .colab-df-quickchart {\n    background-color: var(--bg-color);\n    border: none;\n    border-radius: 50%;\n    cursor: pointer;\n    display: none;\n    fill: var(--fill-color);\n    height: 32px;\n    padding: 0;\n    width: 32px;\n  }\n\n  .colab-df-quickchart:hover {\n    background-color: var(--hover-bg-color);\n    box-shadow: 0 1px 2px rgba(60, 64, 67, 0.3), 0 1px 3px 1px rgba(60, 64, 67, 0.15);\n    fill: var(--button-hover-fill-color);\n  }\n\n  .colab-df-quickchart-complete:disabled,\n  .colab-df-quickchart-complete:disabled:hover {\n    background-color: var(--disabled-bg-color);\n    fill: var(--disabled-fill-color);\n    box-shadow: none;\n  }\n\n  .colab-df-spinner {\n    border: 2px solid var(--fill-color);\n    border-color: transparent;\n    border-bottom-color: var(--fill-color);\n    animation:\n      spin 1s steps(1) infinite;\n  }\n\n  @keyframes spin {\n    0% {\n      border-color: transparent;\n      border-bottom-color: var(--fill-color);\n      border-left-color: var(--fill-color);\n    }\n    20% {\n      border-color: transparent;\n      border-left-color: var(--fill-color);\n      border-top-color: var(--fill-color);\n    }\n    30% {\n      border-color: transparent;\n      border-left-color: var(--fill-color);\n      border-top-color: var(--fill-color);\n      border-right-color: var(--fill-color);\n    }\n    40% {\n      border-color: transparent;\n      border-right-color: var(--fill-color);\n      border-top-color: var(--fill-color);\n    }\n    60% {\n      border-color: transparent;\n      border-right-color: var(--fill-color);\n    }\n    80% {\n      border-color: transparent;\n      border-right-color: var(--fill-color);\n      border-bottom-color: var(--fill-color);\n    }\n    90% {\n      border-color: transparent;\n      border-bottom-color: var(--fill-color);\n    }\n  }\n</style>\n\n  <script>\n    async function quickchart(key) {\n      const quickchartButtonEl =\n        document.querySelector('#' + key + ' button');\n      quickchartButtonEl.disabled = true;  // To prevent multiple clicks.\n      quickchartButtonEl.classList.add('colab-df-spinner');\n      try {\n        const charts = await google.colab.kernel.invokeFunction(\n            'suggestCharts', [key], {});\n      } catch (error) {\n        console.error('Error during call to suggestCharts:', error);\n      }\n      quickchartButtonEl.classList.remove('colab-df-spinner');\n      quickchartButtonEl.classList.add('colab-df-quickchart-complete');\n    }\n    (() => {\n      let quickchartButtonEl =\n        document.querySelector('#df-82d14b05-299d-451f-b269-64d782275127 button');\n      quickchartButtonEl.style.display =\n        google.colab.kernel.accessAllowed ? 'block' : 'none';\n    })();\n  </script>\n</div>`;\n        parentElement.appendChild(quickchartButtonContainerElement);\n      }\n\n      appendQuickchartButton(table);\n    "
          },
          "metadata": {},
          "execution_count": 12
        }
      ]
    },
    {
      "cell_type": "markdown",
      "source": [
        "## mapping var from data file"
      ],
      "metadata": {
        "id": "aC5XNPwfoFk5"
      }
    },
    {
      "cell_type": "code",
      "source": [
        "# say want to map housing values across nj counties; first need to get the map with counties\n",
        "# (then we will get regular data with housing values and merge with counties data and color code the polygons)\n",
        "# maps have their own files, a popular one is 'shapefile', so if you want to map nj counties\n",
        "# first step is to get the geo data so google 'geography you're looking for + 'shapefile'', eg 'nj counties shapefile'\n",
        "# i found one and put on my website\n",
        "# have it zipped--one shapefile consists of several files--keep them in one zipped folder and dont change their names\n",
        "! wget -q -O nj-counties.zip https://docs.google.com/uc?id=1xJDhcRCkgv7k4tNCa72Oog5bohV6dTB2&export=download\n",
        "zip_ref = zipfile.ZipFile('nj-counties.zip', 'r'); zip_ref.extractall(); zip_ref.close() #just unzipping\n",
        "njC=gpd.read_file('nj_counties.shp') #load the shapefile with gpd as njC"
      ],
      "metadata": {
        "id": "aZUTyiwH2WYj"
      },
      "execution_count": null,
      "outputs": []
    },
    {
      "cell_type": "code",
      "source": [
        "india.dtypes #with geopandas can do stuff like with pandas :)"
      ],
      "metadata": {
        "id": "a723kDw-WEtQ"
      },
      "execution_count": null,
      "outputs": []
    },
    {
      "cell_type": "code",
      "source": [
        "njC.head(2)"
      ],
      "metadata": {
        "id": "MEGVfZrmWBzj"
      },
      "execution_count": null,
      "outputs": []
    },
    {
      "cell_type": "code",
      "source": [
        "njC.plot() #yay love the shape"
      ],
      "metadata": {
        "id": "OpUYC_sSU9D3"
      },
      "execution_count": null,
      "outputs": []
    },
    {
      "cell_type": "code",
      "source": [
        "#sometimes lucky and have the variable we want to map in the shapefile\n",
        "njC.plot(figsize=(10,12),column='POPDEN2010',legend=True,cmap='YlOrRd',scheme='natural_breaks',k=5,\n",
        "         edgecolor='grey',linewidth=2,legend_kwds= {\"fmt\": \"{:,.0f}\"}) #,ax=ax"
      ],
      "metadata": {
        "id": "JGnWGkSGVcvC"
      },
      "execution_count": null,
      "outputs": []
    },
    {
      "cell_type": "code",
      "source": [
        "# we can overlay layers; lets get nj uni shapefile on it\n",
        "!wget -q -O col.zip  https://docs.google.com/uc?id=1bb9KES6QDE7cleE4L38yQ7939LlXUHB5&export=download\n",
        "zip_ref = zipfile.ZipFile('col.zip', 'r');zip_ref.extractall(); zip_ref.close()\n",
        "\n",
        "col = gpd.read_file('2007_11_30_NJ_COLL_UNIV_njsp.shp')\n",
        "#col.dtypes\n",
        "\n",
        "fig, ax = plt.subplots(1, figsize=(6,10))\n",
        "njC.plot(ax=ax, color='white', edgecolor='black',linewidth=1)\n",
        "col.plot(ax=ax, marker='o', color='red', markersize=10)\n",
        "#col.plot(column='ENROLL',markersize=50,legend=True,cmap='RdYlGn_r',scheme='QUANTILES',k=5,ax=ax)\n",
        "ax.set_xticks([]) #kills xticks\n",
        "ax.set_yticks([]) #kills xticks\n",
        "#ax.set_title('Watersheds by area ($mi^2$)')"
      ],
      "metadata": {
        "id": "OZx0j8Z-WtVY"
      },
      "execution_count": null,
      "outputs": []
    },
    {
      "cell_type": "code",
      "source": [
        "#ok that was fun but remember we want to map housing prices\n",
        "#but we dont have that info in counies shapefile :(\n",
        "#so we need to find it elsewhere...and...merge!\n",
        "#2nd dataset:  housing prices\n",
        "!wget -q -O zillow.csv  https://docs.google.com/uc?id=1Q4tCZT0EfaJP_WGwKcxuPaQ_dDFonW4E&export=download\n",
        "zillow=pd.read_csv('zillow.csv')\n",
        "zillow.head(3)\n",
        "zil1=zillow[['UPPER','Dec 2012']]\n",
        "zil1.rename(columns={'UPPER': 'COUNTY'}, inplace=True) #fix col names to match 1st dataset"
      ],
      "metadata": {
        "id": "SB5AN7i9Yp_C"
      },
      "execution_count": null,
      "outputs": []
    },
    {
      "cell_type": "code",
      "source": [
        "#merge\n",
        "njC1 = pd.merge(njC, zil1, on='COUNTY',how='outer',indicator=True)\n",
        "njC1[['COUNTY','Dec 2012','POPDEN2010','_merge']] #all good, NEW JERSEY expected not to merge\n",
        "njC2 = pd.merge(njC, zil1, on='COUNTY',how='inner',indicator=False)"
      ],
      "metadata": {
        "id": "WVo-Lel0ZPCH"
      },
      "execution_count": null,
      "outputs": []
    },
    {
      "cell_type": "code",
      "source": [
        "njC2.plot(figsize=(10,12),column='Dec 2012',legend=True,cmap='RdYlGn_r',\n",
        "          scheme='natural_breaks',k=5, edgecolor='grey',linewidth=2,legend_kwds= {\"fmt\": \"{:,.0f}\"})"
      ],
      "metadata": {
        "id": "HsJv2lwvZtb_"
      },
      "execution_count": null,
      "outputs": []
    },
    {
      "cell_type": "markdown",
      "source": [
        "#### abortions example\n",
        "(make sure to have njC shapefile from previous sec)"
      ],
      "metadata": {
        "id": "7KcdHrsBFcEP"
      }
    },
    {
      "cell_type": "code",
      "source": [
        "# get data: https://data.guttmacher.org/ has a nice API\n",
        "# can click thru to get the table we want, which results in url (can open in webbrowser):\n",
        "# https://data.guttmacher.org/counties/table?county=34001+34003+34005+34007+34009+34011+34013+34015+34017+34019+34021+34023+34025+34027+34029+34031+34033+34035+34037+34039+34041&topics=244+247&dataset=data&state=NJ\n",
        "# and then can right click on 'download xls' (csv is messy in this case) button under the table and 'copy link address' and paste into wget (need quotes!):\n",
        "!wget -q -O njAb.xls  \"https://data.guttmacher.org/download?locationType=county&visualization=datatable&topic=244+247&locations=34001+34003+34005+34007+34009+34011+34013+34015+34017+34019+34021+34023+34025+34027+34029+34031+34033+34035+34037+34039+34041&measures=424+425+426+427+428+429+436+437+438+439+440+441+442&totalKey=NJ\""
      ],
      "metadata": {
        "id": "-vFhkSyOFjwk"
      },
      "execution_count": null,
      "outputs": []
    },
    {
      "cell_type": "code",
      "source": [
        "# alternatively can scrap the table\n",
        "#import requests\n",
        "#url = 'https://data.guttmacher.org/counties/table?county=34001+34003+34005+34007+34009+34011+34013+34015+34017+34019+34021+34023+34025+34027+34029+34031+34033+34035+34037+34039+34041&topics=244+247&dataset=data&state=NJ'\n",
        "#header = {\n",
        "#  \"User-Agent\": \"Mozilla/5.0 (X11; Linux x86_64) AppleWebKit/537.36 (KHTML, like Gecko) Chrome/50.0.2661.75 Safari/537.36\",\n",
        "#  \"X-Requested-With\": \"XMLHttpRequest\"\n",
        "#}\n",
        "#r = requests.get(url, headers=header)\n",
        "#pd.read_html(r.text,match='U.S. County',flavor=None)[0].head(3) #for match just putting name of first col"
      ],
      "metadata": {
        "id": "HTTC533yJWtZ"
      },
      "execution_count": null,
      "outputs": []
    },
    {
      "cell_type": "code",
      "source": [
        "njAb=pd.read_excel('njAb.xls')\n",
        "njAb.head(3)"
      ],
      "metadata": {
        "id": "pMZdtThpG7A7"
      },
      "execution_count": null,
      "outputs": []
    },
    {
      "cell_type": "code",
      "source": [
        "#look at shapefile col names\n",
        "njC"
      ],
      "metadata": {
        "id": "TsYsA3XPKmVT"
      },
      "execution_count": null,
      "outputs": []
    },
    {
      "cell_type": "code",
      "source": [
        "njC['U.S. County']=njC['COUNTY_LAB'].str.replace(' County','') #get rid of ' County' [note space in front of county]\n",
        "njC.head(5)"
      ],
      "metadata": {
        "id": "hA8V_rWrK7uM"
      },
      "execution_count": null,
      "outputs": []
    },
    {
      "cell_type": "code",
      "source": [
        "njCAb = pd.merge(njC, njAb, on='U.S. County',how='outer',indicator=True)\n",
        "njCAb.head(50) # ok fine just junk from the bottom like sources etc and NJ as state didnt merge, so can do clean inner merge"
      ],
      "metadata": {
        "id": "XiuZeZbzL5Q0"
      },
      "execution_count": null,
      "outputs": []
    },
    {
      "cell_type": "code",
      "source": [
        "njCAb = pd.merge(njC, njAb, on='U.S. County',how='inner',indicator=True) #inner merge\n",
        "njCAb"
      ],
      "metadata": {
        "id": "M4MQ6PwfNIFY"
      },
      "execution_count": null,
      "outputs": []
    },
    {
      "cell_type": "code",
      "source": [
        "njCAb.dtypes"
      ],
      "metadata": {
        "id": "hHYL2UwDNyM8"
      },
      "execution_count": null,
      "outputs": []
    },
    {
      "cell_type": "code",
      "source": [
        "#need to convert string (object) to numeric (float or int; float is safer can have decimals if needed)\n",
        "njCAb['publicly funded clinics, 2015'] = njCAb['Total publicly funded clinics, 2015 [1]'].astype(float)"
      ],
      "metadata": {
        "id": "gLf2PeXrOpvz"
      },
      "execution_count": null,
      "outputs": []
    },
    {
      "cell_type": "code",
      "source": [
        "njCAb[['U.S. County','Total publicly funded clinics, 2015 [1]','publicly funded clinics, 2015']]"
      ],
      "metadata": {
        "id": "bQnp9Zq9N9Oy"
      },
      "execution_count": null,
      "outputs": []
    },
    {
      "cell_type": "code",
      "source": [
        "fig, ax = plt.subplots(figsize=(6,10))\n",
        "\n",
        "njCAb.plot(ax=ax,figsize=(10,12),column='publicly funded clinics, 2015',legend=True,cmap='RdYlGn_r',\n",
        "          scheme='natural_breaks',k=5, edgecolor='grey',linewidth=2,legend_kwds= {\"fmt\": \"{:,.0f}\"})\n",
        "ax.set_xticks([]) #kills xticks\n",
        "ax.set_yticks([]) #kills xticks\n",
        "ax.set_title('count of publicly funded abortion clinics, 2015')\n",
        "#ax.annotate('Note added to chart with minimum parameters', xy = (200000, 1000))\n",
        "plt.figtext(0.5, 0.1,\n",
        "            '''data from guttmacher.org\n",
        "            Publicly Funded Contraceptive Services at U.S. Clinics, 2015, Frost JJ, et al., 2017''',\n",
        "            ha=\"center\", fontsize=8, #bbox={\"facecolor\":\"white\", \"alpha\":0.5, \"pad\":5}\n",
        "            )"
      ],
      "metadata": {
        "id": "M-etOV9RNjLF"
      },
      "execution_count": null,
      "outputs": []
    },
    {
      "cell_type": "markdown",
      "source": [
        "# TODO expand massively on geopandas all bells and whistles\n",
        "TODO do a bit of pandas for dat man like reading in data and looking at it!!\n"
      ],
      "metadata": {
        "id": "Kyw6FhFFJx13"
      }
    },
    {
      "cell_type": "markdown",
      "source": [
        "## notes to myself\n",
        "\n",
        "the whole course, geo dat sci:\n",
        "https://darribas.org/gds_course/content/home.html\n",
        "\n",
        "LATER:\n",
        " basemap! guess the first one! used to use it, but dead, depreciated in favor of cartopy\n",
        "https://jakevdp.github.io/PythonDataScienceHandbook/04.13-geographic-data-with-basemap.html"
      ],
      "metadata": {
        "id": "jqjcjLU_4BeO"
      }
    }
  ]
}